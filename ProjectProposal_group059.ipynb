{
 "cells": [
  {
   "cell_type": "markdown",
   "metadata": {},
   "source": [
    "# COGS 108 - Final Project Proposal"
   ]
  },
  {
   "cell_type": "markdown",
   "metadata": {},
   "source": [
    "# Names\n",
    "\n",
    "- Daniel Au\n",
    "- Jacob Au\n",
    "- Sahil Dadhwal\n",
    "- Mira Chokshi\n",
    "- Ryan Xu"
   ]
  },
  {
   "cell_type": "markdown",
   "metadata": {},
   "source": [
    "# Research Question"
   ]
  },
  {
   "cell_type": "markdown",
   "metadata": {},
   "source": [
    "Is there a statistically significant difference in the distribution of the Depression Anxiety Stress Scales(DASS) in people aged 18-24 enrolled in academia versus those who are not, when controlling for religion, ethnicity, and number of siblings?"
   ]
  },
  {
   "cell_type": "markdown",
   "metadata": {},
   "source": [
    "## Background and Prior Work"
   ]
  },
  {
   "cell_type": "markdown",
   "metadata": {},
   "source": [
    "The amount of mental health issues in young people such as depression, anxiety, and stress are currently at the highest they have ever been. Mental health issues are affecting young people’s performance in their academic, professional, or social lives. As a result of stress, depression, or anxiety, young people are struggling to stay motivated to both work and  This begs the question as to what are the potential underlying cause(s) of the current mental health crises.\n",
    "\n",
    "Does it have to do with whether or not a person is enrolled in university or in the workforce? Based on a Boston University study of their students found that “half of students in fall 2020 screened positive for depression and/or anxiety.” However, is enrollment in University the cause of mental health issues or are people who are not enrolled in university experiencing similar levels of mental health problems. Rather than level of education, are mental health issues caused by the other issues listed in our research question, each of which may have underlying reasons as to why people have mental health issues. \n",
    "\n",
    "According to Recognition and Assessment of Common Mental Disorders in Young People, depression is a common mental disorder in young people and is diagnosable through a specific DSM-IV criteria. However, the article highlights that, “In a young person, hopelessness is recognised as a strong prognostic indication for severe depression and warrants urgent referral.” In our project, we aim to correlate other predictors of depression, such as university enrollment, religion, ethnicity, and household size.\n",
    "\n",
    "References:\n",
    "1)  https://www.bu.edu/articles/2021/depression-anxiety-loneliness-are-peaking-in-college-students/\n",
    "2)  https://bpac.org.nz/bpj/2010/january/assessment.aspx"
   ]
  },
  {
   "cell_type": "markdown",
   "metadata": {},
   "source": [
    "# Hypothesis\n"
   ]
  },
  {
   "cell_type": "markdown",
   "metadata": {},
   "source": [
    "We hypothesize that there might be a positive correlation between enrollment in a university and depression. Our reasoning is that the pressure of academic performance, coupled with the stress of transitioning from high school to college / college to workforce potentially leads to higher DASS scores."
   ]
  },
  {
   "cell_type": "markdown",
   "metadata": {},
   "source": [
    "# Data"
   ]
  },
  {
   "cell_type": "markdown",
   "metadata": {},
   "source": [
    "Our ideal dataset would include unique ambiguous identifiers(serial) that would be associated with subjects so they can remain anonymous and protect their privacy. Associated with each unique identifier would be a completely filled out(no nulls) row of variables consisting of their age(number), enrollment in university(Y/N), ethnicity(pre-filtered in the sense that same religion is accounted for the same religion even if they are spelled incorrectly or capitalized differently; ex. Christian = christian & christianity & christinann etc), size of family(number of siblings), and DASS score(Normal = 0-9, Mild = 10-13, Moderate = 14-20, Severe = 21-27, Extremely severe = 28+). We would want anywhere from 1000-2000 observations. We will not be conducting our own survey so we will not be using social media platforms, word of mouth, or flyers to promote and get individuals to participate. Instead we will be using a trustworthy organization studying depression that would collect this data gathering an unbiased and varied group of participants. The link to this data is https://www.kaggle.com/yamqwe/depression-anxiety-stress-scales.  This data would ideally be organized into a CSV file with no nulls and unified formatting for each column."
   ]
  },
  {
   "cell_type": "markdown",
   "metadata": {},
   "source": [
    "# Ethics & Privacy"
   ]
  },
  {
   "cell_type": "markdown",
   "metadata": {},
   "source": [
    "There are many possible biases that may occur from the dataset we use. If a certain age group is more inclined to participate in data collection, then the dataset will be biased towards that specific age group. In addition, we must consider that people experiencing depression may not be inclined to willingly participate in data collection without any incentives. The datasets may have collected data from a location with minimal depressed people. Typically, an individual who is depressed may not spend a lot of time outside, which may result in skewed data results. Additionally, how they conduct the data collection process, whether through email, telephone, text, in person, etc.. , only a certain group of people will participate which can correlate to bias. \n",
    "\n",
    "To detect these biases, we will analyze the age distribution in these datasets. This will give us a better understanding of the data we are using. In addition, we will analyze the population breakdown, to see where the data is being collected from. \n",
    "\n",
    "Outside of these issues, there are no other issues related to our topic area, data, and analysis that are potentially problematic in terms of data privacy and equitable impact.\n"
   ]
  },
  {
   "cell_type": "markdown",
   "metadata": {},
   "source": [
    "# Team Expectations "
   ]
  },
  {
   "cell_type": "markdown",
   "metadata": {},
   "source": [
    "Expect everyone to attend weekly project meetings - Wednesdays 3-5\n",
    "Expect everyone to communicate any absences before project meetings\n",
    "Expect everyone to complete their given tasks on time, and if they are struggling to communicate their problems or conflicts with their tasks before the deadline\n",
    "Expect everyone to equally contribute towards the project\n",
    "Expect everyone to check Discord at least once a day for notifications"
   ]
  },
  {
   "cell_type": "markdown",
   "metadata": {},
   "source": [
    "# Project Timeline Proposal"
   ]
  },
  {
   "cell_type": "markdown",
   "metadata": {},
   "source": [
    "| Meeting Date  | Meeting Time| Completed Before Meeting  | Discuss at Meeting |\n",
    "|---|---|---|---|\n",
    "| 1/20  |  1 PM | Read & Think about COGS 108 expectations; brainstorm topics/questions  | Determine best form of communication; Discuss and decide on final project topic; discuss hypothesis; begin background research | \n",
    "| 1/27  |  3 PM |  Do background research on topic, think about research question| Discuss ideal dataset(s) and ethics; draft project proposal | \n",
    "| 2/2  | 3 PM  | Search for datasets  | Discuss Wrangling and possible analytical approaches; Assign group members to lead each specific part   |\n",
    "| 2/9  | 3 PM  | Import & Wrangle Data; EDA | Review/Edit wrangling/EDA; Discuss Analysis Plan   |\n",
    "| 2/14  | 3 PM  | Finalize wrangling/EDA; Begin Analysis | Discuss/edit Analysis; Complete project check-in |\n",
    "| 3/16  | 3 PM  | Complete analysis; Draft results/conclusion/discussion (Wasp)| Discuss/edit full project |\n",
    "| 3/19  | Before 11:59 PM  | NA | Turn in Final Project & Group Project Surveys |"
   ]
  },
  {
   "cell_type": "markdown",
   "metadata": {},
   "source": []
  }
 ],
 "metadata": {
  "kernelspec": {
   "display_name": "Python 3",
   "language": "python",
   "name": "python3"
  },
  "language_info": {
   "codemirror_mode": {
    "name": "ipython",
    "version": 3
   },
   "file_extension": ".py",
   "mimetype": "text/x-python",
   "name": "python",
   "nbconvert_exporter": "python",
   "pygments_lexer": "ipython3",
   "version": "3.7.9"
  }
 },
 "nbformat": 4,
 "nbformat_minor": 2
}
